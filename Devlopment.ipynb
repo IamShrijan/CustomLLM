{
 "cells": [
  {
   "cell_type": "code",
   "execution_count": 1,
   "metadata": {},
   "outputs": [
    {
     "name": "stdout",
     "output_type": "stream",
     "text": [
      "['Hello,', ' ', 'world.', ' ', 'This,', ' ', 'is', ' ', 'a', ' ', 'test.']\n"
     ]
    }
   ],
   "source": [
    "import re\n",
    "\n",
    "text = \"Hello, world. This, is a test.\"\n",
    "result = re.split(r'(\\s)', text)\n",
    "\n",
    "print(result)"
   ]
  },
  {
   "cell_type": "code",
   "execution_count": 6,
   "metadata": {},
   "outputs": [
    {
     "name": "stdout",
     "output_type": "stream",
     "text": [
      "Error decoding file DataSet/J. K. Rowling - Harry Potter 4 - The Goblet of Fire.txt at position 187075: invalid start byte\n",
      "Problematic byte: b'\\xfc'\n"
     ]
    }
   ],
   "source": [
    "import os\n",
    "import glob\n",
    "\n",
    "# Define the path to the DataSet folder\n",
    "folder_path = 'DataSet'\n",
    "\n",
    "# Use glob to find all text files in the folder\n",
    "text_files = glob.glob(os.path.join(folder_path, '*.txt'))\n",
    "\n",
    "# Initialize a variable to store the contents\n",
    "all_text_contents = \"\"\n",
    "\n",
    "# Iterate over each file and read its contents\n",
    "for file_path in text_files:\n",
    "    try:\n",
    "        with open(file_path, 'rb') as file:  # Open in binary mode\n",
    "            content = file.read()\n",
    "            all_text_contents += content.decode('utf-8', errors='ignore') + \"\\n\"\n",
    "\n",
    "# Now, all_text_contents contains the contents of all text files"
   ]
  },
  {
   "cell_type": "code",
   "execution_count": null,
   "metadata": {},
   "outputs": [],
   "source": []
  }
 ],
 "metadata": {
  "kernelspec": {
   "display_name": "Lab2",
   "language": "python",
   "name": "python3"
  },
  "language_info": {
   "codemirror_mode": {
    "name": "ipython",
    "version": 3
   },
   "file_extension": ".py",
   "mimetype": "text/x-python",
   "name": "python",
   "nbconvert_exporter": "python",
   "pygments_lexer": "ipython3",
   "version": "3.10.14"
  }
 },
 "nbformat": 4,
 "nbformat_minor": 2
}
